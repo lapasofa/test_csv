{
  "nbformat": 4,
  "nbformat_minor": 0,
  "metadata": {
    "colab": {
      "name": "Копия блокнота \"Untitled26.ipynb\"",
      "provenance": [],
      "collapsed_sections": [],
      "mount_file_id": "1qXz7_r3TS6EbORvA56LmqCb-P3ZVckZI",
      "authorship_tag": "ABX9TyMaFIZAua93aATCtGnqA/ps",
      "include_colab_link": true
    },
    "kernelspec": {
      "name": "python3",
      "display_name": "Python 3"
    }
  },
  "cells": [
    {
      "cell_type": "markdown",
      "metadata": {
        "id": "view-in-github",
        "colab_type": "text"
      },
      "source": [
        "<a href=\"https://colab.research.google.com/github/lapasofa/test_csv/blob/master/%D0%9A%D0%BE%D0%BF%D0%B8%D1%8F_%D0%B1%D0%BB%D0%BE%D0%BA%D0%BD%D0%BE%D1%82%D0%B0_%22Untitled26_ipynb%22.ipynb\" target=\"_parent\"><img src=\"https://colab.research.google.com/assets/colab-badge.svg\" alt=\"Open In Colab\"/></a>"
      ]
    },
    {
      "cell_type": "code",
      "metadata": {
        "id": "2-DkzfFuzADN",
        "colab_type": "code",
        "colab": {
          "base_uri": "https://localhost:8080/",
          "height": 198
        },
        "outputId": "1dff352f-e0de-40b5-fa75-f9aa66f224a6"
      },
      "source": [
        "import pandas as pd\n",
        "\n",
        "df = pd.read_csv('/content/gold _total.csv', encoding='cp1251')\n",
        "df.head()"
      ],
      "execution_count": null,
      "outputs": [
        {
          "output_type": "execute_result",
          "data": {
            "text/html": [
              "<div>\n",
              "<style scoped>\n",
              "    .dataframe tbody tr th:only-of-type {\n",
              "        vertical-align: middle;\n",
              "    }\n",
              "\n",
              "    .dataframe tbody tr th {\n",
              "        vertical-align: top;\n",
              "    }\n",
              "\n",
              "    .dataframe thead th {\n",
              "        text-align: right;\n",
              "    }\n",
              "</style>\n",
              "<table border=\"1\" class=\"dataframe\">\n",
              "  <thead>\n",
              "    <tr style=\"text-align: right;\">\n",
              "      <th></th>\n",
              "      <th>Дата,\"Цена\",\"Откр.\",\"Макс.\",\"Мин.\",\"Объём\",\"Изм. %\"</th>\n",
              "    </tr>\n",
              "  </thead>\n",
              "  <tbody>\n",
              "    <tr>\n",
              "      <th>0</th>\n",
              "      <td>26.08.2020,\"1.909,70\",\"1.935,70\",\"1.936,90\",\"1...</td>\n",
              "    </tr>\n",
              "    <tr>\n",
              "      <th>1</th>\n",
              "      <td>25.08.2020,\"1.923,10\",\"1.935,90\",\"1.944,10\",\"1...</td>\n",
              "    </tr>\n",
              "    <tr>\n",
              "      <th>2</th>\n",
              "      <td>24.08.2020,\"1.939,20\",\"1.947,90\",\"1.970,30\",\"1...</td>\n",
              "    </tr>\n",
              "    <tr>\n",
              "      <th>3</th>\n",
              "      <td>21.08.2020,\"1.947,00\",\"1.955,60\",\"1.963,10\",\"1...</td>\n",
              "    </tr>\n",
              "    <tr>\n",
              "      <th>4</th>\n",
              "      <td>20.08.2020,\"1.946,50\",\"1.934,40\",\"1.963,10\",\"1...</td>\n",
              "    </tr>\n",
              "  </tbody>\n",
              "</table>\n",
              "</div>"
            ],
            "text/plain": [
              "  Дата,\"Цена\",\"Откр.\",\"Макс.\",\"Мин.\",\"Объём\",\"Изм. %\"\n",
              "0  26.08.2020,\"1.909,70\",\"1.935,70\",\"1.936,90\",\"1... \n",
              "1  25.08.2020,\"1.923,10\",\"1.935,90\",\"1.944,10\",\"1... \n",
              "2  24.08.2020,\"1.939,20\",\"1.947,90\",\"1.970,30\",\"1... \n",
              "3  21.08.2020,\"1.947,00\",\"1.955,60\",\"1.963,10\",\"1... \n",
              "4  20.08.2020,\"1.946,50\",\"1.934,40\",\"1.963,10\",\"1... "
            ]
          },
          "metadata": {
            "tags": []
          },
          "execution_count": 2
        }
      ]
    },
    {
      "cell_type": "markdown",
      "metadata": {
        "id": "9WWoidSszIh0",
        "colab_type": "text"
      },
      "source": [
        ""
      ]
    }
  ]
}